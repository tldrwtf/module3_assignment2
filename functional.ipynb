{
  "cells": [
    {
      "cell_type": "markdown",
      "metadata": {
        "id": "-11fl9xNnYVz"
      },
      "source": [
        "# Your Tasks\n",
        "# Task 1: Movie Sorting"
      ]
    },
    {
      "cell_type": "code",
      "execution_count": 4,
      "metadata": {
        "id": "dXxdkFSXmhsr"
      },
      "outputs": [],
      "source": [
        "from colorama import init, Fore, Back, Style\n",
        "init(autoreset=True)\n"
      ]
    },
    {
      "cell_type": "code",
      "execution_count": 5,
      "metadata": {
        "id": "IgVOAmr_lIYY"
      },
      "outputs": [],
      "source": [
        "# The Dataset\n",
        "movies = [\n",
        "    {'title': 'The Matrix', 'year': 1999, 'rating': 8.7, 'genre': 'Sci-Fi'},\n",
        "    {'title': 'Inception', 'year': 2010, 'rating': 8.8, 'genre': 'Thriller'},\n",
        "    {'title': 'Pulp Fiction', 'year': 1994, 'rating': 8.9, 'genre': 'Crime'},\n",
        "    {'title': 'The Godfather', 'year': 1972, 'rating': 9.2, 'genre': 'Crime'},\n",
        "    {'title': 'Avatar', 'year': 2009, 'rating': 7.8, 'genre': 'Sci-Fi'},\n",
        "    {'title': 'Titanic', 'year': 1997, 'rating': 7.8, 'genre': 'Romance'}\n",
        "]\n"
      ]
    },
    {
      "cell_type": "code",
      "execution_count": 6,
      "metadata": {
        "id": "qWWF6YSYlUOr"
      },
      "outputs": [],
      "source": [
        "# Task 1a: Movie Sorting\n",
        "# TODO: Sort movies by rating (highest first)\n",
        "by_rating = sorted(movies, key=lambda movie: movie['rating'], reverse=True)\n",
        "\n",
        "# TODO: Sort movies by year (newest first)\n",
        "by_year = sorted(movies, key=lambda movie: movie['year'], reverse=True)"
      ]
    },
    {
      "cell_type": "code",
      "execution_count": 7,
      "metadata": {
        "colab": {
          "base_uri": "https://localhost:8080/"
        },
        "id": "XTVcdYJolcfS",
        "outputId": "cd427740-a00c-44f5-f9b9-ef693cfb83a9"
      },
      "outputs": [
        {
          "name": "stdout",
          "output_type": "stream",
          "text": [
            "🎬 Movie Sorting Results:\n",
            "Highest rated: The Godfather\n",
            "Newest movie: Inception\n"
          ]
        }
      ],
      "source": [
        "# Test your sorting\n",
        "print(f\"{Fore.CYAN}🎬 Movie Sorting Results:{Style.RESET_ALL}\")\n",
        "print(f\"{Fore.GREEN}Highest rated: {Fore.YELLOW}{by_rating[0]['title']}{Style.RESET_ALL}\")\n",
        "print(f\"{Fore.GREEN}Newest movie: {Fore.YELLOW}{by_year[0]['title']}{Style.RESET_ALL}\")"
      ]
    },
    {
      "cell_type": "code",
      "execution_count": 8,
      "metadata": {
        "id": "n2qBs1JxmA5y"
      },
      "outputs": [],
      "source": [
        "# Task 1b: Movie Classification\n",
        "# TODO: Create a lambda to classify movies by era\n",
        "# - Year >= 2000: 'Modern'\n",
        "# - Year >= 1990: 'Recent'\n",
        "# - Otherwise: 'Classic'\n",
        "classify_era = lambda year: 'Modern' if year >= 2000 else ('Recent' if year >= 1990 else 'Classic')\n",
        "\n",
        "# TODO: Create a lambda to determine rating category\n",
        "# - Rating >= 9.0: 'Masterpiece'\n",
        "# - Rating >= 8.0: 'Excellent'\n",
        "# - Otherwise: 'Good'\n",
        "rating_category = lambda rating: 'Masterpiece' if rating >= 9.0 else ('Excellent' if rating >= 8.0 else 'Good')"
      ]
    },
    {
      "cell_type": "code",
      "execution_count": 27,
      "metadata": {
        "colab": {
          "base_uri": "https://localhost:8080/"
        },
        "id": "cUtJDQWxmB7R",
        "outputId": "b8c6268d-937f-4d54-f8cb-62c73a6e4b70"
      },
      "outputs": [
        {
          "name": "stdout",
          "output_type": "stream",
          "text": [
            "\n",
            "🎭 Movie Classifications:\n",
            "The Matrix: Recent, Excellent\n",
            "Inception: Modern, Excellent\n",
            "Pulp Fiction: Recent, Excellent\n",
            "The Godfather: Classic, Masterpiece\n",
            "Avatar: Modern, Good\n",
            "Titanic: Recent, Good\n"
          ]
        }
      ],
      "source": [
        "print(f\"\\n{Fore.MAGENTA}🎭 Movie Classifications:{Style.RESET_ALL}\")\n",
        "for movie in movies:\n",
        "    era = classify_era(movie['year'])\n",
        "    category = rating_category(movie['rating'])\n",
        "\n",
        "    # Color coding for eras\n",
        "    era_color = Fore.BLUE if era == 'Modern' else Fore.GREEN if era == 'Recent' else Fore.YELLOW\n",
        "\n",
        "    # Color coding for categories\n",
        "    category_color = Fore.RED if category == 'Masterpiece' else Fore.CYAN if category == 'Excellent' else Fore.WHITE\n",
        "\n",
        "    print(f\"{Fore.WHITE}{movie['title']}: {era_color}{era}{Style.RESET_ALL}, {category_color}{category}{Style.RESET_ALL}\")"
      ]
    },
    {
      "cell_type": "markdown",
      "metadata": {
        "id": "IlCjmCTQmW7i"
      },
      "source": [
        "# Task 2: Map Function with Temperature Data\n",
        "# Scenario\n",
        "# A weather station has recorded temperatures in Celsius and needs them converted to Fahrenheit and Kelvin for international reports."
      ]
    },
    {
      "cell_type": "code",
      "execution_count": 1,
      "metadata": {
        "id": "nI6J7qCamYFJ"
      },
      "outputs": [],
      "source": [
        "# The Dataset\n",
        "weather_data = [\n",
        "    {'city': 'New York', 'temp_celsius': 22, 'humidity': 65},\n",
        "    {'city': 'London', 'temp_celsius': 15, 'humidity': 80},\n",
        "    {'city': 'Tokyo', 'temp_celsius': 28, 'humidity': 70},\n",
        "    {'city': 'Sydney', 'temp_celsius': 18, 'humidity': 60},\n",
        "    {'city': 'Dubai', 'temp_celsius': 35, 'humidity': 45}\n",
        "]"
      ]
    },
    {
      "cell_type": "code",
      "execution_count": 2,
      "metadata": {
        "id": "UO8KEWxWmZnZ"
      },
      "outputs": [],
      "source": [
        "# Your Task\n",
        "# Temperature Conversion\n",
        "# TODO: Use map() with lambda or user defined function to add Fahrenheit and Kelvin temperatures\n",
        "# Formula: Fahrenheit = (Celsius × 9/5) + 32\n",
        "# Formula: Kelvin = Celsius + 273.15\n",
        "weather_converted = list(map(lambda data: {\n",
        "    'city': data['city'],\n",
        "    'temp_celsius': data['temp_celsius'],\n",
        "    'humidity': data['humidity'],\n",
        "    'temp_fahrenheit': (data['temp_celsius'] * 9/5) + 32,\n",
        "    'temp_kelvin': data['temp_celsius'] + 273.15\n",
        "}, weather_data))"
      ]
    },
    {
      "cell_type": "code",
      "execution_count": 3,
      "metadata": {
        "colab": {
          "base_uri": "https://localhost:8080/"
        },
        "id": "T90-MSzAmd9J",
        "outputId": "47e156e5-49a8-47b8-d19e-b7aea9ff21cf"
      },
      "outputs": [
        {
          "ename": "NameError",
          "evalue": "name 'Fore' is not defined",
          "output_type": "error",
          "traceback": [
            "\u001b[31m---------------------------------------------------------------------------\u001b[39m",
            "\u001b[31mNameError\u001b[39m                                 Traceback (most recent call last)",
            "\u001b[36mCell\u001b[39m\u001b[36m \u001b[39m\u001b[32mIn[3]\u001b[39m\u001b[32m, line 2\u001b[39m\n\u001b[32m      1\u001b[39m \u001b[38;5;66;03m# Test your result\u001b[39;00m\n\u001b[32m----> \u001b[39m\u001b[32m2\u001b[39m \u001b[38;5;28mprint\u001b[39m(\u001b[33mf\u001b[39m\u001b[33m\"\u001b[39m\u001b[38;5;130;01m\\n\u001b[39;00m\u001b[38;5;132;01m{\u001b[39;00m\u001b[43mFore\u001b[49m.CYAN\u001b[38;5;132;01m}\u001b[39;00m\u001b[33m🌡️  Temperature Conversions:\u001b[39m\u001b[38;5;132;01m{\u001b[39;00mStyle.RESET_ALL\u001b[38;5;132;01m}\u001b[39;00m\u001b[33m\"\u001b[39m)\n\u001b[32m      3\u001b[39m \u001b[38;5;28;01mfor\u001b[39;00m data \u001b[38;5;129;01min\u001b[39;00m weather_converted:\n\u001b[32m      4\u001b[39m     \u001b[38;5;28mprint\u001b[39m(\u001b[33mf\u001b[39m\u001b[33m\"\u001b[39m\u001b[38;5;132;01m{\u001b[39;00mFore.YELLOW\u001b[38;5;132;01m}\u001b[39;00m\u001b[38;5;132;01m{\u001b[39;00mdata[\u001b[33m'\u001b[39m\u001b[33mcity\u001b[39m\u001b[33m'\u001b[39m]\u001b[38;5;132;01m}\u001b[39;00m\u001b[33m:\u001b[39m\u001b[38;5;132;01m{\u001b[39;00mStyle.RESET_ALL\u001b[38;5;132;01m}\u001b[39;00m\u001b[33m\"\u001b[39m)\n",
            "\u001b[31mNameError\u001b[39m: name 'Fore' is not defined"
          ]
        }
      ],
      "source": [
        "# Test your result\n",
        "print(f\"\\n{Fore.CYAN}🌡️  Temperature Conversions:{Style.RESET_ALL}\")\n",
        "for data in weather_converted:\n",
        "    print(f\"{Fore.YELLOW}{data['city']}:{Style.RESET_ALL}\")\n",
        "    print(f\"  {Fore.BLUE}Celsius: {Fore.WHITE}{data['temp_celsius']}°C{Style.RESET_ALL}\")\n",
        "    print(f\"  {Fore.RED}Fahrenheit: {Fore.WHITE}{data['temp_fahrenheit']:.1f}°F{Style.RESET_ALL}\")\n",
        "    print(f\"  {Fore.GREEN}Kelvin: {Fore.WHITE}{data['temp_kelvin']:.1f}K{Style.RESET_ALL}\")"
      ]
    },
    {
      "cell_type": "markdown",
      "metadata": {
        "id": "SwxLG3IvmqRS"
      },
      "source": [
        "# Task 3: Filter Function with Customer Data\n",
        "# Scenario\n",
        "# An e-commerce company wants to identify premium customers for a special promotion based on their purchase history and account status."
      ]
    },
    {
      "cell_type": "code",
      "execution_count": 43,
      "metadata": {
        "id": "5nVe5hrLmuPB"
      },
      "outputs": [],
      "source": [
        "customers = [\n",
        "    {'name': 'Alice Johnson', 'total_spent': 1250, 'orders': 8, 'vip_member': True},\n",
        "    {'name': 'Bob Smith', 'total_spent': 750, 'orders': 12, 'vip_member': False},\n",
        "    {'name': 'Carol Davis', 'total_spent': 2100, 'orders': 15, 'vip_member': True},\n",
        "    {'name': 'David Wilson', 'total_spent': 450, 'orders': 3, 'vip_member': False},\n",
        "    {'name': 'Emma Brown', 'total_spent': 980, 'orders': 7, 'vip_member': False},\n",
        "    {'name': 'Frank Miller', 'total_spent': 1800, 'orders': 20, 'vip_member': True}\n",
        "]"
      ]
    },
    {
      "cell_type": "code",
      "execution_count": 44,
      "metadata": {
        "id": "rN27rC2bmwvJ"
      },
      "outputs": [],
      "source": [
        "# Your Task\n",
        "# Premium Customer Identification\n",
        "# TODO: Use filter() to find customers who qualify for premium promotion\n",
        "# Criteria: (total_spent >= 1000 AND orders >= 5) OR vip_member == True\n",
        "premium_customers = list(filter(lambda customer: (customer['total_spent'] >= 1000 and customer['orders'] >= 5) or customer['vip_member'] == True, customers))"
      ]
    },
    {
      "cell_type": "code",
      "execution_count": 45,
      "metadata": {
        "colab": {
          "base_uri": "https://localhost:8080/"
        },
        "id": "4YcnQoGfm1d5",
        "outputId": "348e2139-e405-4a37-fdc3-e41af551d98d"
      },
      "outputs": [
        {
          "name": "stdout",
          "output_type": "stream",
          "text": [
            "\n",
            "👑 Premium Customers for Special Promotion:\n",
            "  VIP Alice Johnson - Spent: $1250, Orders: 8\n",
            "  VIP Carol Davis - Spent: $2100, Orders: 15\n",
            "  VIP Frank Miller - Spent: $1800, Orders: 20\n"
          ]
        }
      ],
      "source": [
        "# Test your result\n",
        "print(f\"\\n{Fore.MAGENTA}👑 Premium Customers for Special Promotion:{Style.RESET_ALL}\")\n",
        "for customer in premium_customers:\n",
        "    # Highlight VIP members differently\n",
        "    if customer['vip_member']:\n",
        "        print(f\"  {Back.YELLOW}{Fore.BLACK}VIP{Style.RESET_ALL} {Fore.CYAN}{customer['name']}{Style.RESET_ALL} - Spent: {Fore.GREEN}${customer['total_spent']}{Style.RESET_ALL}, Orders: {Fore.YELLOW}{customer['orders']}{Style.RESET_ALL}\")\n",
        "    else:\n",
        "        print(f\"  {Fore.CYAN}{customer['name']}{Style.RESET_ALL} - Spent: {Fore.GREEN}${customer['total_spent']}{Style.RESET_ALL}, Orders: {Fore.YELLOW}{customer['orders']}{Style.RESET_ALL}\")\n"
      ]
    },
    {
      "cell_type": "markdown",
      "metadata": {
        "id": "ZRhIExaCm5kZ"
      },
      "source": [
        "# Task 4: List Comprehensions with Sales Data\n",
        "# Scenario\n",
        "# A retail analytics team needs to process quarterly sales data to generate insights and reports."
      ]
    },
    {
      "cell_type": "code",
      "execution_count": 36,
      "metadata": {
        "id": "oEMg1FyJm6XJ"
      },
      "outputs": [],
      "source": [
        "sales_data = [\n",
        "    {'product': 'Laptop', 'q1': 150, 'q2': 180, 'q3': 160, 'q4': 200},\n",
        "    {'product': 'Mouse', 'q1': 300, 'q2': 280, 'q3': 320, 'q4': 350},\n",
        "    {'product': 'Keyboard', 'q1': 200, 'q2': 190, 'q3': 210, 'q4': 230},\n",
        "    {'product': 'Monitor', 'q1': 80, 'q2': 95, 'q3': 85, 'q4': 110},\n",
        "    {'product': 'Headphones', 'q1': 120, 'q2': 140, 'q3': 130, 'q4': 160}\n",
        "]"
      ]
    },
    {
      "cell_type": "code",
      "execution_count": 37,
      "metadata": {
        "id": "PriArpLom8H6"
      },
      "outputs": [],
      "source": [
        "# Your Tasks\n",
        "# Task 4a: Calculate Annual Totals\n",
        "# TODO: Use list comprehension to create a new list with annual totals\n",
        "# Include product name and total_sales\n",
        "# [{'product': <product name>, 'total_sales': q1 + q2 + q3 + q4}]\n",
        "annual_sales = [{'product': product['product'], 'total_sales': product['q1'] + product['q2'] + product['q3'] + product['q4']} for product in sales_data]"
      ]
    },
    {
      "cell_type": "code",
      "execution_count": 38,
      "metadata": {
        "colab": {
          "base_uri": "https://localhost:8080/"
        },
        "id": "nvkD603qm9ty",
        "outputId": "d5052f06-17a6-4366-f80e-b5bf52366846"
      },
      "outputs": [
        {
          "name": "stdout",
          "output_type": "stream",
          "text": [
            "\n",
            "📊 Annual Sales Totals:\n",
            "  Laptop: 690 units\n",
            "  Mouse: 1250 units\n",
            "  Keyboard: 830 units\n",
            "  Monitor: 370 units\n",
            "  Headphones: 550 units\n"
          ]
        }
      ],
      "source": [
        "# Test your result\n",
        "print(f\"\\n{Fore.GREEN}📊 Annual Sales Totals:{Style.RESET_ALL}\")\n",
        "for item in annual_sales:\n",
        "    # Color based on sales volume\n",
        "    if item['total_sales'] > 1000:\n",
        "        color = Fore.RED  # High sales\n",
        "    elif item['total_sales'] > 600:\n",
        "        color = Fore.YELLOW  # Medium sales\n",
        "    else:\n",
        "        color = Fore.WHITE  # Low sales\n",
        "\n",
        "    print(f\"  {Fore.CYAN}{item['product']}: {color}{item['total_sales']} units{Style.RESET_ALL}\")"
      ]
    },
    {
      "cell_type": "code",
      "execution_count": 39,
      "metadata": {
        "id": "2ltXY84qnEqB"
      },
      "outputs": [],
      "source": [
        "# Task 4b: Find High-Performing Products\n",
        "# TODO: Use list comprehension to find products with total sales > 600\n",
        "# Return just the product names\n",
        "high_performers = [product['product'] for product in annual_sales if product['total_sales'] > 600]"
      ]
    },
    {
      "cell_type": "code",
      "execution_count": 40,
      "metadata": {
        "colab": {
          "base_uri": "https://localhost:8080/"
        },
        "id": "OlS60m9tnGhC",
        "outputId": "2b76ea49-516e-4369-e877-661c40b1bb1c"
      },
      "outputs": [
        {
          "name": "stdout",
          "output_type": "stream",
          "text": [
            "\n",
            "🚀 High-Performing Products (>600 units):\n",
            "  ✓ Laptop\n",
            "  ✓ Mouse\n",
            "  ✓ Keyboard\n"
          ]
        }
      ],
      "source": [
        "# Test your result\n",
        "print(f\"\\n{Fore.YELLOW}🚀 High-Performing Products (>600 units):{Style.RESET_ALL}\")\n",
        "for product in high_performers:\n",
        "    print(f\"  {Fore.GREEN}✓ {product}{Style.RESET_ALL}\")"
      ]
    },
    {
      "cell_type": "code",
      "execution_count": 41,
      "metadata": {
        "id": "YpEXRBfJnJKx"
      },
      "outputs": [],
      "source": [
        "# Task 4c: Growth Analysis\n",
        "# TODO: Use list comprehension to calculate Q4 vs Q1 growth percentage\n",
        "# Formula: ((Q4 - Q1) / Q1) * 100\n",
        "# Include products that had positive growth\n",
        "growth_analysis = [{'product': product['product'], 'growth_percentage': ((product['q4'] - product['q1']) / product['q1']) * 100} for product in sales_data if product['q4'] > product['q1']]"
      ]
    },
    {
      "cell_type": "code",
      "execution_count": 42,
      "metadata": {
        "colab": {
          "base_uri": "https://localhost:8080/"
        },
        "id": "1lMKvu9enKBa",
        "outputId": "5b72e5d5-fa42-4ac5-c3d0-4ea0b3691858"
      },
      "outputs": [
        {
          "name": "stdout",
          "output_type": "stream",
          "text": [
            "\n",
            "📈 Products with Positive Growth (Q4 vs Q1):\n",
            "  Laptop: 33.3% growth\n",
            "  Mouse: 16.7% growth\n",
            "  Keyboard: 15.0% growth\n",
            "  Monitor: 37.5% growth\n",
            "  Headphones: 33.3% growth\n"
          ]
        }
      ],
      "source": [
        "# Test your result\n",
        "print(f\"\\n{Fore.MAGENTA}📈 Products with Positive Growth (Q4 vs Q1):{Style.RESET_ALL}\")\n",
        "for item in growth_analysis:\n",
        "    # Color based on growth percentage\n",
        "    if item['growth_percentage'] > 30:\n",
        "        growth_color = Fore.RED  # High growth\n",
        "    elif item['growth_percentage'] > 20:\n",
        "        growth_color = Fore.YELLOW  # Medium growth\n",
        "    else:\n",
        "        growth_color = Fore.GREEN  # Low growth\n",
        "\n",
        "    print(f\"  {Fore.CYAN}{item['product']}: {growth_color}{item['growth_percentage']:.1f}% growth{Style.RESET_ALL}\")"
      ]
    }
  ],
  "metadata": {
    "colab": {
      "provenance": []
    },
    "kernelspec": {
      "display_name": "Python 3",
      "name": "python3"
    },
    "language_info": {
      "codemirror_mode": {
        "name": "ipython",
        "version": 3
      },
      "file_extension": ".py",
      "mimetype": "text/x-python",
      "name": "python",
      "nbconvert_exporter": "python",
      "pygments_lexer": "ipython3",
      "version": "3.13.7"
    }
  },
  "nbformat": 4,
  "nbformat_minor": 0
}
